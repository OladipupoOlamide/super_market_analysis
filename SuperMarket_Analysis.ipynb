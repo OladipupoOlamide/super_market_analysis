{
 "cells": [
  {
   "cell_type": "code",
   "execution_count": null,
   "id": "e19cda66-990d-4c67-b65e-1fe327638ec3",
   "metadata": {},
   "outputs": [],
   "source": [
    "import pandas as pd\n",
    "import numpy as np"
   ]
  },
  {
   "cell_type": "code",
   "execution_count": null,
   "id": "805cc937-e249-4b6a-9fda-9d52b75c9691",
   "metadata": {},
   "outputs": [],
   "source": [
    "super_market = pd.read_csv(r\"C:\\Users\\USER\\Music\\New folder\\SUPERMARKET.csv\")"
   ]
  },
  {
   "cell_type": "code",
   "execution_count": null,
   "id": "1f37a4be-b7a8-4193-ad96-499aa476e73c",
   "metadata": {
    "scrolled": true
   },
   "outputs": [],
   "source": [
    "super_market.head()"
   ]
  },
  {
   "cell_type": "code",
   "execution_count": null,
   "id": "d270f926-2898-44d7-a443-ff49332f1d6f",
   "metadata": {
    "scrolled": true
   },
   "outputs": [],
   "source": [
    "    super_market.info()"
   ]
  },
  {
   "cell_type": "code",
   "execution_count": 7,
   "id": "41b05ed2-1da8-4c8e-b25b-af0edb97fc97",
   "metadata": {},
   "outputs": [
    {
     "data": {
      "text/plain": [
       "0"
      ]
     },
     "execution_count": 7,
     "metadata": {},
     "output_type": "execute_result"
    }
   ],
   "source": [
    "super_market.isna().sum()\n",
    "super_market.duplicated().sum()"
   ]
  },
  {
   "cell_type": "code",
   "execution_count": null,
   "id": "18ce0d5a-a22a-4fbd-bb6d-31b3fb2a7af8",
   "metadata": {},
   "outputs": [],
   "source": [
    "super_market['Time']=pd.to_datetime(super_market['Time']).dt.time\n",
    "super_market['Date']=pd.to_datetime(super_market['Date'])\n"
   ]
  },
  {
   "cell_type": "code",
   "execution_count": 35,
   "id": "93eea5b9-f8a7-45ce-9b8d-c54715331faa",
   "metadata": {},
   "outputs": [],
   "source": [
    "super_market['Month'] = super_market['Date'].dt.month_name()\n",
    "super_market['Day'] = super_market['Date'].dt.day_name()"
   ]
  },
  {
   "cell_type": "code",
   "execution_count": 17,
   "id": "ee8cb815-f534-48df-947a-37fabf6c93c7",
   "metadata": {},
   "outputs": [
    {
     "name": "stdout",
     "output_type": "stream",
     "text": [
      "Invoice ID                         object\n",
      "Branch                             object\n",
      "City                               object\n",
      "Customer type                      object\n",
      "Gender                             object\n",
      "Product line                       object\n",
      "Unit price                        float64\n",
      "Quantity                          float64\n",
      "Tax 5%                            float64\n",
      "Sales                             float64\n",
      "Date                       datetime64[ns]\n",
      "Time                               object\n",
      "Payment                            object\n",
      "cogs                              float64\n",
      "gross margin percentage           float64\n",
      "gross income                      float64\n",
      "Rating                            float64\n",
      "dtype: object\n"
     ]
    }
   ],
   "source": [
    "print(super_market.dtypes)"
   ]
  },
  {
   "cell_type": "code",
   "execution_count": 21,
   "id": "7f44324c-7a6a-4459-b630-12ee4e69858d",
   "metadata": {},
   "outputs": [
    {
     "name": "stdout",
     "output_type": "stream",
     "text": [
      "        count         sum        mean\n",
      "Gender                               \n",
      "Female    571  194671.908  340.931538\n",
      "Male      429  128294.958  299.055846\n"
     ]
    }
   ],
   "source": [
    "#What drives the most sales\n",
    "gender_based_sales = super_market.groupby('Gender')['Sales'].agg(['count','sum','mean']).sort_values(by='sum', ascending = False)\n",
    "print(gender_based_sales)"
   ]
  },
  {
   "cell_type": "code",
   "execution_count": 23,
   "id": "a310c6d6-c9f1-492c-8752-2cc302fd5452",
   "metadata": {},
   "outputs": [
    {
     "name": "stdout",
     "output_type": "stream",
     "text": [
      "Product line\n",
      "Food and beverages        56144.862\n",
      "Sports and travel         55122.846\n",
      "Electronic accessories    54337.551\n",
      "Fashion accessories       54305.915\n",
      "Home and lifestyle        53861.929\n",
      "Health and beauty         49193.763\n",
      "Name: Sales, dtype: float64\n"
     ]
    }
   ],
   "source": [
    "product_line = super_market.groupby('Product line')['Sales'].sum().sort_values(ascending= False)\n",
    "print(product_line)"
   ]
  },
  {
   "cell_type": "code",
   "execution_count": 25,
   "id": "fab2d0a4-5970-494e-9c44-8cc156dd1988",
   "metadata": {},
   "outputs": [
    {
     "name": "stdout",
     "output_type": "stream",
     "text": [
      "City\n",
      "Naypyitaw    110568.748\n",
      "Yangon       106200.409\n",
      "Mandalay     106197.709\n",
      "Name: Sales, dtype: float64\n"
     ]
    }
   ],
   "source": [
    "city_base = super_market.groupby('City')['Sales'].sum().sort_values(ascending= False)\n",
    "print(city_base)"
   ]
  },
  {
   "cell_type": "code",
   "execution_count": 29,
   "id": "893b4346-ce45-4fb9-9d76-9476eae03647",
   "metadata": {},
   "outputs": [
    {
     "name": "stdout",
     "output_type": "stream",
     "text": [
      "Customer type\n",
      "Member    189694.834\n",
      "Normal    133272.032\n",
      "Name: Sales, dtype: float64\n"
     ]
    }
   ],
   "source": [
    "customer_type_based = super_market.groupby('Customer type')['Sales'].sum().sort_values(ascending= False)\n",
    "print(customer_type_based)"
   ]
  },
  {
   "cell_type": "code",
   "execution_count": 31,
   "id": "951504b9-e300-4780-a9b0-6af4f5eb3066",
   "metadata": {},
   "outputs": [
    {
     "name": "stdout",
     "output_type": "stream",
     "text": [
      "Payment\n",
      "Ewallet        345\n",
      "Cash           344\n",
      "Credit card    311\n",
      "Name: Sales, dtype: int64\n"
     ]
    }
   ],
   "source": [
    "payment_method = super_market.groupby('Payment')['Sales'].count().sort_values(ascending= False)\n",
    "print(payment_method)\n"
   ]
  },
  {
   "cell_type": "code",
   "execution_count": 37,
   "id": "494f224d-1b57-4e08-903f-3d9c41af3ddc",
   "metadata": {},
   "outputs": [
    {
     "name": "stdout",
     "output_type": "stream",
     "text": [
      "Month\n",
      "January     116291.912\n",
      "March       109455.543\n",
      "February     97219.411\n",
      "Name: Sales, dtype: float64\n"
     ]
    }
   ],
   "source": [
    "month_based = super_market.groupby('Month')['Sales'].sum().sort_values(ascending= False)\n",
    "print(month_based)\n"
   ]
  },
  {
   "cell_type": "code",
   "execution_count": 39,
   "id": "276a61d4-69aa-4b15-ae41-1d5b478994cf",
   "metadata": {},
   "outputs": [
    {
     "name": "stdout",
     "output_type": "stream",
     "text": [
      "City\n",
      "Mandalay    106197.709\n",
      "Name: Sales, dtype: float64\n",
      "------------------\n",
      "Product line\n",
      "Health and beauty     49193.763\n",
      "Home and lifestyle    53861.929\n",
      "Name: Sales, dtype: float64\n",
      "------------------\n",
      "Day\n",
      "Monday       303.192768\n",
      "Wednesday    305.812238\n",
      "Name: Sales, dtype: float64\n"
     ]
    }
   ],
   "source": [
    "#Underperformers\n",
    "bottom_cities = super_market.groupby('City')['Sales'].sum().sort_values(ascending= True).head(1)\n",
    "bottom_product_lines = super_market.groupby('Product line')['Sales'].sum().sort_values(ascending= True).head(2)\n",
    "bottom_days = super_market.groupby('Day')['Sales'].mean().sort_values(ascending= True).head(2)\n",
    "print(bottom_cities)\n",
    "print(\"------------------\")\n",
    "print(bottom_product_lines)\n",
    "print(\"------------------\")\n",
    "print(bottom_days)"
   ]
  },
  {
   "cell_type": "code",
   "execution_count": 41,
   "id": "bd338297-df5d-4afd-9f52-512614929796",
   "metadata": {},
   "outputs": [
    {
     "name": "stdout",
     "output_type": "stream",
     "text": [
      "        Total_Sales  Average_Rating\n",
      "Branch                             \n",
      "Giza     110568.748        7.072866\n",
      "Alex     106200.409        7.027059\n",
      "Cairo    106197.709        6.818072\n"
     ]
    }
   ],
   "source": [
    "#Branch representative analysis\n",
    "branch_rep_perf = super_market.groupby('Branch').agg({'Sales':'sum','Rating':'mean'}).sort_values(by ='Sales',ascending= False)\n",
    "branch_rep_perf.rename(columns={'Sales':'Total_Sales','Rating':'Average_Rating'},inplace=True)\n",
    "print(branch_rep_perf)"
   ]
  },
  {
   "cell_type": "code",
   "execution_count": 43,
   "id": "1f05b698-3703-4738-b67e-94b41e1cb1c2",
   "metadata": {},
   "outputs": [
    {
     "name": "stdout",
     "output_type": "stream",
     "text": [
      "\n",
      "Possible reasons for monthly variations:\n",
      "          Quantity  Unit price  gross income\n",
      "Month                                       \n",
      "February    1654.0   56.632079      4629.494\n",
      "January     1965.0   56.119006      5537.708\n",
      "March       1891.0   54.373101      5212.167\n"
     ]
    }
   ],
   "source": [
    "print(\"\\nPossible reasons for monthly variations:\")\n",
    "monthly_stats = super_market.groupby('Month').agg({'Quantity': 'sum', 'Unit price': 'mean', 'gross income': 'sum'})\n",
    "print(monthly_stats)"
   ]
  },
  {
   "cell_type": "code",
   "execution_count": 57,
   "id": "9d9ff430-1b01-4dfd-8e84-a397d91de277",
   "metadata": {},
   "outputs": [
    {
     "name": "stdout",
     "output_type": "stream",
     "text": [
      "              Quantity  Unit price  Sales  gross income\n",
      "Quantity          1.00        0.01   0.71          0.71\n",
      "Unit price        0.01        1.00   0.63          0.63\n",
      "Sales             0.71        0.63   1.00          1.00\n",
      "gross income      0.71        0.63   1.00          1.00\n"
     ]
    }
   ],
   "source": [
    "corr_matrix = super_market[['Quantity','Unit price','Sales', 'gross income']].corr()\n",
    "print(corr_matrix.round(2))"
   ]
  },
  {
   "cell_type": "code",
   "execution_count": 73,
   "id": "08373881-9de5-4b00-87e2-479f717e85db",
   "metadata": {},
   "outputs": [
    {
     "name": "stdout",
     "output_type": "stream",
     "text": [
      "Customer type\n",
      "Member    189694.834\n",
      "Normal    133272.032\n",
      "Name: Sales, dtype: float64\n",
      "Gender\n",
      "Female    194671.908\n",
      "Male      128294.958\n",
      "Name: Sales, dtype: float64\n"
     ]
    }
   ],
   "source": [
    "#Gender/customer type behavior difference\n",
    "print(customer_type_based)\n",
    "gender_based = super_market.groupby('Gender')['Sales'].sum().sort_values(ascending = False)\n",
    "print( gender_based)"
   ]
  },
  {
   "cell_type": "code",
   "execution_count": 77,
   "id": "e2e64729-beca-4a22-9481-c447fd2b5541",
   "metadata": {},
   "outputs": [
    {
     "name": "stdout",
     "output_type": "stream",
     "text": [
      "Customer type  Gender\n",
      "Member         Female    356\n",
      "Normal         Male      220\n",
      "               Female    215\n",
      "Member         Male      209\n",
      "Name: count, dtype: int64\n"
     ]
    }
   ],
   "source": [
    "print(super_market.value_counts(['Customer type','Gender']))"
   ]
  },
  {
   "cell_type": "code",
   "execution_count": 81,
   "id": "d70466da-bc60-4b7c-85a1-35c00da1daeb",
   "metadata": {},
   "outputs": [
    {
     "name": "stdout",
     "output_type": "stream",
     "text": [
      "                 sum        mean\n",
      "Month                           \n",
      "January   116291.912  330.374750\n",
      "March     109455.543  317.262443\n",
      "February   97219.411  320.856142\n"
     ]
    }
   ],
   "source": [
    "# Month with highest/lowest sales and why?\n",
    "month_based = super_market.groupby('Month')['Sales'].agg(['sum','mean']).sort_values(by = 'sum',ascending = False)\n",
    "print(month_based)"
   ]
  },
  {
   "cell_type": "code",
   "execution_count": 87,
   "id": "85b9e45a-6ff3-465c-9a9b-6afbb1d54d31",
   "metadata": {},
   "outputs": [
    {
     "name": "stdout",
     "output_type": "stream",
     "text": [
      "          Invoice ID  Unit price  Quantity\n",
      "Month                                     \n",
      "January          352   56.119006    1965.0\n",
      "March            345   54.373101    1891.0\n",
      "February         303   56.632079    1654.0\n"
     ]
    }
   ],
   "source": [
    "reasons = super_market.groupby('Month').agg({'Invoice ID':'count','Unit price':'mean','Quantity':'sum'}).sort_values(by = 'Quantity',ascending = False)\n",
    "print(reasons)"
   ]
  },
  {
   "cell_type": "code",
   "execution_count": 93,
   "id": "4f26557e-e918-4c3b-a5a6-30728c72e333",
   "metadata": {},
   "outputs": [
    {
     "name": "stdout",
     "output_type": "stream",
     "text": [
      "Month     Customer type\n",
      "February  Member           58877.775\n",
      "          Normal           38341.636\n",
      "January   Member           65664.685\n",
      "          Normal           50627.227\n",
      "March     Member           65152.374\n",
      "          Normal           44303.169\n",
      "Name: Sales, dtype: float64\n"
     ]
    }
   ],
   "source": [
    "monthly_customera = super_market.groupby(['Month','Customer type'])['Sales'].sum()\n",
    "print(monthly_customera)"
   ]
  },
  {
   "cell_type": "code",
   "execution_count": 115,
   "id": "b772f224-1f28-4762-b4c3-c6b51d90b7cc",
   "metadata": {},
   "outputs": [
    {
     "name": "stdout",
     "output_type": "stream",
     "text": [
      "       Month            Product line      Sales\n",
      "11   January       Sports and travel  21667.029\n",
      "16     March      Home and lifestyle  20932.794\n",
      "10   January      Home and lifestyle  20494.747\n",
      "2   February      Food and beverages  20000.364\n",
      "17     March       Sports and travel  19646.198\n",
      "8    January      Food and beverages  19570.536\n",
      "7    January     Fashion accessories  19345.124\n",
      "1   February     Fashion accessories  19009.868\n",
      "6    January  Electronic accessories  18831.294\n",
      "15     March       Health and beauty  18208.320\n",
      "12     March  Electronic accessories  18143.346\n",
      "0   February  Electronic accessories  17362.911\n",
      "14     March      Food and beverages  16573.962\n",
      "9    January       Health and beauty  16383.182\n",
      "13     March     Fashion accessories  15950.923\n",
      "3   February       Health and beauty  14602.261\n",
      "5   February       Sports and travel  13809.619\n",
      "4   February      Home and lifestyle  12434.388\n"
     ]
    }
   ],
   "source": [
    "monthly_products = super_market.groupby(['Month','Product line'])['Sales'].sum().reset_index()sort_values('Sales',ascending = False)\n",
    "print(monthly_products)"
   ]
  },
  {
   "cell_type": "code",
   "execution_count": null,
   "id": "87e17376-99c2-4fe9-82b6-49aca7630d14",
   "metadata": {},
   "outputs": [],
   "source": []
  }
 ],
 "metadata": {
  "kernelspec": {
   "display_name": "Python 3 (ipykernel)",
   "language": "python",
   "name": "python3"
  },
  "language_info": {
   "codemirror_mode": {
    "name": "ipython",
    "version": 3
   },
   "file_extension": ".py",
   "mimetype": "text/x-python",
   "name": "python",
   "nbconvert_exporter": "python",
   "pygments_lexer": "ipython3",
   "version": "3.12.4"
  }
 },
 "nbformat": 4,
 "nbformat_minor": 5
}
