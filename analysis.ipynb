# %% [markdown]
# # Supermarket Sales Analysis
# **Author**: Your Name  
# **Date**: Current Date

# %% [markdown]
# ## 1. Data Preparation

# %%
import pandas as pd
import numpy as np
import matplotlib.pyplot as plt
import seaborn as sns

# Load data
super_market = pd.read_csv("data/SUPERMARKET.csv")

# %% [markdown]
# ### Data Cleaning

# %%
# Check data quality
print("Missing values:")
print(super_market.isna().sum())

print("\nDuplicates:", super_market.duplicated().sum())

# Convert data types
super_market['Date'] = pd.to_datetime(super_market['Date'])
super_market['Time'] = pd.to_datetime(super_market['Time']).dt.time
super_market['Month'] = super_market['Date'].dt.month_name()
super_market['Day'] = super_market['Date'].dt.day_name()

# %% [markdown]
# ## 2. Key Analysis

# %% [markdown]
# ### Sales by Customer Type

# %%
customer_type_based = super_market.groupby('Customer type')['Sales'].sum().sort_values(ascending=False)
print("Total Sales by Customer Type:")
print(customer_type_based.to_markdown())

# Visualization
customer_type_based.plot(kind='bar', title='Sales by Customer Type')
plt.ylabel('Total Sales ($)')
plt.savefig('visuals/customer_type_sales.png')
plt.show()

# %% [markdown]
# ### Payment Method Analysis

# %%
payment_method = super_market.groupby('Payment')['Sales'].count().sort_values(ascending=False)
print("\nTransaction Count by Payment Method:")
print(payment_method.to_markdown())

# %% [markdown]
# ### Monthly Sales Performance

# %%
month_based = super_market.groupby('Month')['Sales'].sum().sort_values(ascending=False)
print("\nMonthly Sales:")
print(month_based.to_markdown())

# %% [markdown]
# ## 3. Deep Dive Analysis

# %% [markdown]
# ### Underperforming Areas

# %%
print("Bottom Performing Cities:")
bottom_cities = super_market.groupby('City')['Sales'].sum().sort_values().head(1)
print(bottom_cities.to_markdown())

print("\nBottom Product Lines:")
bottom_product_lines = super_market.groupby('Product line')['Sales'].sum().sort_values().head(2)
print(bottom_product_lines.to_markdown())

# %% [markdown]
# ### Branch Performance

# %%
branch_rep_perf = super_market.groupby('Branch').agg({'Sales':'sum','Rating':'mean'}).sort_values(by='Sales', ascending=False)
branch_rep_perf = branch_rep_perf.rename(columns={'Sales':'Total_Sales','Rating':'Average_Rating'})
print("\nBranch Performance:")
print(branch_rep_perf.to_markdown(floatfmt=".2f"))

# %% [markdown]
# ### Gender Analysis

# %%
gender_based = super_market.groupby('Gender')['Sales'].sum().sort_values(ascending=False)
print("\nSales by Gender:")
print(gender_based.to_markdown())

# Customer type and gender distribution
print("\nCustomer Count by Type and Gender:")
print(super_market.value_counts(['Customer type','Gender']).to_markdown())

# %% [markdown]
# ## 4. Correlation Analysis

# %%
corr_matrix = super_market[['Quantity','Unit price','Sales','gross income']].corr()
print("\nCorrelation Matrix:")
print(corr_matrix.round(2).to_markdown())

# Heatmap visualization
plt.figure(figsize=(8,6))
sns.heatmap(corr_matrix, annot=True, cmap='coolwarm', center=0)
plt.title('Sales Metrics Correlation')
plt.savefig('visuals/correlation_heatmap.png')
plt.show()

# %% [markdown]
# ## 5. Product Performance by Month

# %%
monthly_products = super_market.groupby(['Month','Product line'])['Sales'].sum().reset_index().sort_values('Sales', ascending=False)
print("\nTop Products by Month:")
print(monthly_products.head(10).to_markdown(index=False))

# Visualization
plt.figure(figsize=(12,6))
sns.barplot(data=monthly_products, x='Month', y='Sales', hue='Product line')
plt.title('Monthly Product Performance')
plt.xticks(rotation=45)
plt.tight_layout()
plt.savefig('visuals/monthly_products.png')
plt.show()

# %% [markdown]
# ## Key Findings Summary
# 1. **Member customers** drive 58% of total sales ($189,694 vs $133,272)
# 2. **January** is the best month ($116,291) due to Sports/Travel products
# 3. **E-wallet** is the most popular payment method (345 transactions)
# 4. **Health & Beauty** is the worst performing category
# 5. Strong correlation between **Quantity and Sales** (0.71)

# %% [markdown]
# ## Next Steps
# - Investigate Health & Beauty underperformance
# - Target member customers with loyalty programs
# - Replicate January's success strategy
